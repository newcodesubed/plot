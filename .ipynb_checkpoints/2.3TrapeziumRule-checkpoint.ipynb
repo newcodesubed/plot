{
 "cells": [
  {
   "cell_type": "code",
   "execution_count": 1,
   "id": "7fbf648d-d7e4-4456-bee4-041d1d91d5ca",
   "metadata": {},
   "outputs": [
    {
     "name": "stdout",
     "output_type": "stream",
     "text": [
      "Approximated integral using Trapezium Rule for f1(x): 1.6290461117077095\n",
      "Approximated integral using Trapezium Rule for f2(x): 147.41346621319676\n"
     ]
    }
   ],
   "source": [
    "import numpy as np\n",
    "\n",
    "# Define the function to be integrated\n",
    "def f1(x):\n",
    "    return x / (x**2 + 1)\n",
    "\n",
    "def f2(x):\n",
    "    return np.exp(x)\n",
    "\n",
    "# Trapezium Rule method for numerical integration\n",
    "def trapezium_rule(f, a, b, n):\n",
    "    h = (b - a) / n  # Step size\n",
    "    integral = 0.5 * (f(a) + f(b))  # Include the endpoints\n",
    "    \n",
    "    for i in range(1, n):\n",
    "        x = a + i * h\n",
    "        integral += f(x)\n",
    "    \n",
    "    integral *= h\n",
    "    \n",
    "    return integral\n",
    "\n",
    "# Define the limits of integration and the number of subintervals\n",
    "a = 0\n",
    "b = 5\n",
    "n = 1000  # Number of subintervals\n",
    "\n",
    "# Perform numerical integration using Trapezium Rule\n",
    "approx_integral_f1 = trapezium_rule(f1, a, b, n)\n",
    "approx_integral_f2 = trapezium_rule(f2, a, b, n)\n",
    "\n",
    "# Print the results\n",
    "print(\"Approximated integral using Trapezium Rule for f1(x):\", approx_integral_f1)\n",
    "print(\"Approximated integral using Trapezium Rule for f2(x):\", approx_integral_f2)\n"
   ]
  }
 ],
 "metadata": {
  "kernelspec": {
   "display_name": "Python 3 (ipykernel)",
   "language": "python",
   "name": "python3"
  },
  "language_info": {
   "codemirror_mode": {
    "name": "ipython",
    "version": 3
   },
   "file_extension": ".py",
   "mimetype": "text/x-python",
   "name": "python",
   "nbconvert_exporter": "python",
   "pygments_lexer": "ipython3",
   "version": "3.12.3"
  }
 },
 "nbformat": 4,
 "nbformat_minor": 5
}
