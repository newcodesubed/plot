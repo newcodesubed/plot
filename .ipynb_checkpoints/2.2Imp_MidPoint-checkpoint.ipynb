{
 "cells": [
  {
   "cell_type": "code",
   "execution_count": 1,
   "id": "c6eaae8c-32ef-4d5b-b374-73402ae1745b",
   "metadata": {},
   "outputs": [
    {
     "name": "stdout",
     "output_type": "stream",
     "text": [
      "Approximated integral using Midpoint Approximation: 1.629049347664208\n"
     ]
    }
   ],
   "source": [
    "import numpy as np\n",
    "\n",
    "# Define the function to be integrated\n",
    "def f(x):\n",
    "    return x / (x**2 + 1)\n",
    "\n",
    "# Midpoint Approximation method for numerical integration\n",
    "def midpoint_approximation(f, a, b, n):\n",
    "    h = (b - a) / n  # Step size\n",
    "    integral = 0\n",
    "    \n",
    "    for i in range(n):\n",
    "        x_mid = a + (i + 0.5) * h  # Midpoint of each subinterval\n",
    "        integral += f(x_mid)\n",
    "    \n",
    "    integral *= h  # Multiply by step size to get the approximation of the integral\n",
    "    \n",
    "    return integral\n",
    "\n",
    "# Define the limits of integration and the number of subintervals\n",
    "a = 0\n",
    "b = 5\n",
    "n = 1000  # Number of subintervals\n",
    "\n",
    "# Perform numerical integration using Midpoint Approximation\n",
    "approx_integral = midpoint_approximation(f, a, b, n)\n",
    "print(\"Approximated integral using Midpoint Approximation:\", approx_integral)"
   ]
  },
  {
   "cell_type": "code",
   "execution_count": 2,
   "id": "7d44d78c-ffde-4858-86cf-809c4617f1eb",
   "metadata": {},
   "outputs": [
    {
     "name": "stdout",
     "output_type": "stream",
     "text": [
      "Approximated integral using Midpoint Approximation: 147.41300554731447\n"
     ]
    }
   ],
   "source": [
    "import numpy as np\n",
    "\n",
    "# Define the function to be integrated\n",
    "def f(x):\n",
    "    return np.exp(x)\n",
    "\n",
    "# Midpoint Approximation method for numerical integration\n",
    "def midpoint_approximation(f, a, b, n):\n",
    "    h = (b - a) / n  # Step size\n",
    "    integral = 0\n",
    "    \n",
    "    for i in range(n):\n",
    "        x_mid = a + (i + 0.5) * h  # Midpoint of each subinterval\n",
    "        integral += f(x_mid)\n",
    "    \n",
    "    integral *= h  # Multiply by step size to get the approximation of the integral\n",
    "    \n",
    "    return integral\n",
    "\n",
    "# Define the limits of integration and the number of subintervals\n",
    "a = 0\n",
    "b = 5\n",
    "n = 1000  # Number of subintervals\n",
    "\n",
    "# Perform numerical integration using Midpoint Approximation\n",
    "approx_integral = midpoint_approximation(f, a, b, n)\n",
    "print(\"Approximated integral using Midpoint Approximation:\", approx_integral)\n"
   ]
  }
 ],
 "metadata": {
  "kernelspec": {
   "display_name": "Python 3 (ipykernel)",
   "language": "python",
   "name": "python3"
  },
  "language_info": {
   "codemirror_mode": {
    "name": "ipython",
    "version": 3
   },
   "file_extension": ".py",
   "mimetype": "text/x-python",
   "name": "python",
   "nbconvert_exporter": "python",
   "pygments_lexer": "ipython3",
   "version": "3.12.3"
  }
 },
 "nbformat": 4,
 "nbformat_minor": 5
}
