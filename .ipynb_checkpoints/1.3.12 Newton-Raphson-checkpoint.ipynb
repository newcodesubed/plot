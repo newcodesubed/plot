{
 "cells": [
  {
   "cell_type": "code",
   "execution_count": 8,
   "id": "46a7202b-0656-40ae-b769-52e85824c87f",
   "metadata": {},
   "outputs": [
    {
     "name": "stdout",
     "output_type": "stream",
     "text": [
      "Root found: -0.6180339887499892\n"
     ]
    }
   ],
   "source": [
    "import numpy as np\n",
    "\n",
    "def f(x):\n",
    "    return x**2 - x - 1\n",
    "\n",
    "def df(x):\n",
    "    return 2*x - 1\n",
    "\n",
    "def newton_raphson(initial_guess, tolerance=1e-6, max_iterations=100):\n",
    "    x = initial_guess\n",
    "    iterations = 0\n",
    "    \n",
    "    while True:\n",
    "        x_next = x - f(x) / df(x)\n",
    "        iterations += 1\n",
    "        \n",
    "        if abs(x_next - x) < tolerance or iterations >= max_iterations:\n",
    "            break\n",
    "        \n",
    "        x = x_next\n",
    "    \n",
    "    if iterations >= max_iterations:\n",
    "        print(\"Maximum number of iterations reached.\")\n",
    "    else:\n",
    "        print(\"Root found:\", x_next)\n",
    "    \n",
    "    return x_next\n",
    "\n",
    "# Example usage\n",
    "initial_guess = -1\n",
    "root = newton_raphson(initial_guess)"
   ]
  },
  {
   "cell_type": "code",
   "execution_count": 11,
   "id": "4bf9a42f-2e55-4b64-984d-e3c38cbd2aef",
   "metadata": {},
   "outputs": [
    {
     "name": "stdout",
     "output_type": "stream",
     "text": [
      "Root found: -1.2469796037174672\n"
     ]
    }
   ],
   "source": [
    "import numpy as np\n",
    "\n",
    "def f(x):\n",
    "    return x**3 - x**2 -2*x + 1\n",
    "\n",
    "def df(x):\n",
    "    return 3*x**2 - 2*x - 2\n",
    "\n",
    "def newton_raphson(initial_guess, tolerance=1e-6, max_iterations=100):\n",
    "    x = initial_guess\n",
    "    iterations = 0\n",
    "    \n",
    "    while True:\n",
    "        x_next = x - f(x) / df(x)\n",
    "        iterations += 1\n",
    "        \n",
    "        if abs(x_next - x) < tolerance or iterations >= max_iterations:\n",
    "            break\n",
    "        \n",
    "        x = x_next\n",
    "    \n",
    "    if iterations >= max_iterations:\n",
    "        print(\"Maximum number of iterations reached.\")\n",
    "    else:\n",
    "        print(\"Root found:\", x_next)\n",
    "    \n",
    "    return x_next\n",
    "\n",
    "# Example usage\n",
    "initial_guess = -2\n",
    "root = newton_raphson(initial_guess)"
   ]
  }
 ],
 "metadata": {
  "kernelspec": {
   "display_name": "Python 3 (ipykernel)",
   "language": "python",
   "name": "python3"
  },
  "language_info": {
   "codemirror_mode": {
    "name": "ipython",
    "version": 3
   },
   "file_extension": ".py",
   "mimetype": "text/x-python",
   "name": "python",
   "nbconvert_exporter": "python",
   "pygments_lexer": "ipython3",
   "version": "3.12.3"
  }
 },
 "nbformat": 4,
 "nbformat_minor": 5
}
