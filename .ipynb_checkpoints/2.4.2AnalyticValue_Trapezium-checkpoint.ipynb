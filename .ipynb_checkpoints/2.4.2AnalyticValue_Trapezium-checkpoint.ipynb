{
 "cells": [
  {
   "cell_type": "code",
   "execution_count": 7,
   "id": "bb655ce4-acfa-4a69-85ae-494a7ab48534",
   "metadata": {},
   "outputs": [
    {
     "name": "stdout",
     "output_type": "stream",
     "text": [
      "Approximated integral using Trapezium Rule for f1(x): 1.6068648304124211\n",
      "Analytical value of the integral for f1(x): 1.629048269010741\n",
      "Approximated integral using Trapezium Rule for f2(x): 150.47154599798284\n",
      "Analytical value of the integral for f2(x): 147.4131591025766\n"
     ]
    }
   ],
   "source": [
    "import numpy as np\n",
    "\n",
    "# Define the functions for the indefinite integrals\n",
    "def indefinite_integral_f1(x):\n",
    "    return 0.5 * np.log(1 + x**2)\n",
    "\n",
    "def indefinite_integral_f2(x):\n",
    "    return np.exp(x)\n",
    "\n",
    "# Define the analytical values of the definite integrals using the indefinite integrals\n",
    "def analytical_integral_f1(a, b):\n",
    "    return indefinite_integral_f1(b) - indefinite_integral_f1(a)\n",
    "\n",
    "def analytical_integral_f2(a, b):\n",
    "    return indefinite_integral_f2(b) - indefinite_integral_f2(a)\n",
    "\n",
    "# Define the Trapezium Rule method for numerical integration\n",
    "def trapezium_rule(f, a, b, n):\n",
    "    h = (b - a) / n  # Step size\n",
    "    integral = 0.5 * (f(a) + f(b))  # Include the endpoints\n",
    "    \n",
    "    for i in range(1, n):\n",
    "        x = a + i * h\n",
    "        integral += f(x)\n",
    "    \n",
    "    integral *= h\n",
    "    \n",
    "    return integral\n",
    "\n",
    "# Define the limits of integration and the number of partitions\n",
    "a = 0\n",
    "b = 5\n",
    "n = 10  # Increase the number of partitions to get closer to the analytical values\n",
    "\n",
    "# Evaluate the definite integrals using Trapezium Rule\n",
    "approx_integral_f1 = trapezium_rule(lambda x: x / (x**2 + 1), a, b, n)\n",
    "approx_integral_f2 = trapezium_rule(np.exp, a, b, n)\n",
    "\n",
    "# Evaluate the analytical values of the definite integrals\n",
    "analytical_integral_f1 = analytical_integral_f1(a, b)\n",
    "analytical_integral_f2 = analytical_integral_f2(a, b)\n",
    "\n",
    "# Print the results\n",
    "print(\"Approximated integral using Trapezium Rule for f1(x):\", approx_integral_f1)\n",
    "print(\"Analytical value of the integral for f1(x):\", analytical_integral_f1)\n",
    "print(\"Approximated integral using Trapezium Rule for f2(x):\", approx_integral_f2)\n",
    "print(\"Analytical value of the integral for f2(x):\", analytical_integral_f2)\n"
   ]
  },
  {
   "cell_type": "code",
   "execution_count": null,
   "id": "91e9a9e3-f75a-4fa0-9ed2-6c0967fcd251",
   "metadata": {},
   "outputs": [],
   "source": []
  }
 ],
 "metadata": {
  "kernelspec": {
   "display_name": "Python 3 (ipykernel)",
   "language": "python",
   "name": "python3"
  },
  "language_info": {
   "codemirror_mode": {
    "name": "ipython",
    "version": 3
   },
   "file_extension": ".py",
   "mimetype": "text/x-python",
   "name": "python",
   "nbconvert_exporter": "python",
   "pygments_lexer": "ipython3",
   "version": "3.12.3"
  }
 },
 "nbformat": 4,
 "nbformat_minor": 5
}
