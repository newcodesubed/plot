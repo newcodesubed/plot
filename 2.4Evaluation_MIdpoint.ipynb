{
 "cells": [
  {
   "cell_type": "code",
   "execution_count": 9,
   "id": "3ba17a7b-b092-4666-bd7e-21a183866a9a",
   "metadata": {},
   "outputs": [
    {
     "name": "stdout",
     "output_type": "stream",
     "text": [
      "Approximated integral using Midpoint Approximation for f1(x): 1.6290525836792455\n",
      "Analytical value of the integral for f1(x): 1.629048269010741\n",
      "Approximated integral using Midpoint Approximation for f2(x): 147.41254488287188\n",
      "Analytical value of the integral for f2(x): 147.4131591025766\n"
     ]
    }
   ],
   "source": [
    "import numpy as np\n",
    "\n",
    "# Define the functions for the indefinite integrals\n",
    "def indefinite_integral_f1(x):\n",
    "    return 0.5 * np.log(1 + x**2)\n",
    "\n",
    "def indefinite_integral_f2(x):\n",
    "    return np.exp(x)\n",
    "\n",
    "# Define the analytical values of the definite integrals using the indefinite integrals\n",
    "def analytical_integral_f1(a, b):\n",
    "    return indefinite_integral_f1(b) - indefinite_integral_f1(a)\n",
    "\n",
    "def analytical_integral_f2(a, b):\n",
    "    return indefinite_integral_f2(b) - indefinite_integral_f2(a)\n",
    "\n",
    "# Define the Midpoint Approximation method for numerical integration\n",
    "def midpoint_approximation(f, a, b, n):\n",
    "    h = (b - a) / n  # Step size\n",
    "    integral = 0\n",
    "    \n",
    "    for i in range(n):\n",
    "        x_mid = a + (i + 0.5) * h  # Midpoint of each subinterval\n",
    "        integral += f(x_mid)\n",
    "    \n",
    "    integral *= h  # Multiply by step size to get the approximation of the integral\n",
    "    \n",
    "    return integral\n",
    "\n",
    "# Define the limits of integration and the number of partitions\n",
    "a = 0\n",
    "b = 5\n",
    "n = 500\n",
    "\n",
    "# Increase the number of partitions to get closer to the analytical values\n",
    "\n",
    "# Evaluate the definite integrals using Midpoint Approximation\n",
    "approx_integral_f1 = midpoint_approximation(lambda x: x / (x**2 + 1), a, b, n)\n",
    "approx_integral_f2 = midpoint_approximation(np.exp, a, b, n)\n",
    "\n",
    "# Evaluate the analytical values of the definite integrals\n",
    "analytical_integral_f1 = analytical_integral_f1(a, b)\n",
    "analytical_integral_f2 = analytical_integral_f2(a, b)\n",
    "\n",
    "# Print the results\n",
    "print(\"Approximated integral using Midpoint Approximation for f1(x):\", approx_integral_f1)\n",
    "print(\"Analytical value of the integral for f1(x):\", analytical_integral_f1)\n",
    "print(\"Approximated integral using Midpoint Approximation for f2(x):\", approx_integral_f2)\n",
    "print(\"Analytical value of the integral for f2(x):\", analytical_integral_f2)\n"
   ]
  }
 ],
 "metadata": {
  "kernelspec": {
   "display_name": "Python 3 (ipykernel)",
   "language": "python",
   "name": "python3"
  },
  "language_info": {
   "codemirror_mode": {
    "name": "ipython",
    "version": 3
   },
   "file_extension": ".py",
   "mimetype": "text/x-python",
   "name": "python",
   "nbconvert_exporter": "python",
   "pygments_lexer": "ipython3",
   "version": "3.12.3"
  }
 },
 "nbformat": 4,
 "nbformat_minor": 5
}
